{
 "cells": [
  {
   "cell_type": "markdown",
   "id": "0f425365",
   "metadata": {},
   "source": [
    "# Lineare Differentialgleichungen zweiter Ordnung"
   ]
  },
  {
   "cell_type": "code",
   "execution_count": 1,
   "id": "b109736b",
   "metadata": {},
   "outputs": [],
   "source": [
    "# Wir laden einige benötigte Pakete:\n",
    "%config InlineBackend.figure_formats = ['svg']\n",
    "\n",
    "import numpy as np\n",
    "import matplotlib.pyplot as plt\n",
    "import ipywidgets\n",
    "from ipywidgets import Text, Button, Dropdown, interact\n",
    "from IPython.display import display\n",
    "import warnings\n",
    "warnings.filterwarnings(\"ignore\", category=UserWarning)"
   ]
  },
  {
   "cell_type": "markdown",
   "id": "03e57c3e",
   "metadata": {},
   "source": [
    "Im folgenden Snippet wird die Lösung wird die in der Vorlesung vorgestellten Schwingungsgleichung vorgestellt.\n",
    "Hier können Sie ausprobieren, wie sich Änderungen der Federkonstante, der Schwungmasse, sowie der Anfangsbedingen auf die Lösung der Schwinungsgleichung auswirken."
   ]
  },
  {
   "cell_type": "code",
   "execution_count": 3,
   "id": "1e99d48d",
   "metadata": {},
   "outputs": [
    {
     "data": {
      "application/vnd.jupyter.widget-view+json": {
       "model_id": "",
       "version_major": 2,
       "version_minor": 0
      },
      "text/plain": [
       "interactive(children=(FloatSlider(value=1.0, description='Federkonstante', max=10.0, min=0.1), FloatSlider(val…"
      ]
     },
     "metadata": {},
     "output_type": "display_data"
    },
    {
     "data": {
      "text/plain": [
       "<function __main__.Schwingungsgleichung(Federkonstante=1, Masse=1, Anfangsposition=1, Anfangsgeschwindigkeit=0, x_max=6.283185307179586)>"
      ]
     },
     "execution_count": 3,
     "metadata": {},
     "output_type": "execute_result"
    }
   ],
   "source": [
    "def Schwingungsgleichung(Federkonstante = 1, Masse = 1, Anfangsposition = 1, Anfangsgeschwindigkeit = 0, x_max = 2*np.pi):\n",
    "    x = np.linspace(0, x_max, 201)\n",
    "    omega_0 = np.sqrt(Federkonstante / Masse)\n",
    "    C_1 = Anfangsposition\n",
    "    C_2 = Anfangsgeschwindigkeit / omega_0\n",
    "\n",
    "    def Funktion(x):\n",
    "        return C_1 * np.sin(omega_0 * x) + C_2 * np.cos(omega_0 * x)\n",
    "    plt.title(\n",
    "        'Lösung der Schwingungsgleichung:\\n $\\omega_0 = {omega_0:.3f},\\,\\,y = {C_1:.3f}\\sin({omega_0:.3f}t) + {C_1:.3f}\\cos({omega_0:.3f}t)$'.format(omega_0 = omega_0, C_1 = C_1, C_2 = C_2)\n",
    "    )    \n",
    "    plt.plot(x, Funktion(x))\n",
    "\n",
    "    y = np.zeros(len(x))\n",
    "        \n",
    "interact(Schwingungsgleichung, Federkonstante = (0.1, 10, 0.1), Masse = (0.1, 10, 0.1), Anfangsposition = (-5, 5, 0.1), Anfangsgeschwindigkeit = (-5, 5, 0.1), xmax = (3.14, 10, 0.1))"
   ]
  },
  {
   "cell_type": "markdown",
   "id": "8c2765c0",
   "metadata": {},
   "source": [
    "## Lösung einer DGL in Python\n",
    "\n",
    "Die exakte Lösung einer DGL lässt sich in Python gut mit dem Computeralgebrasystem `Sympy` finden.\n",
    "Wir zeigen hier, wie man die homogene DGL\n",
    "$$\n",
    "\\ddot y + a \\dot y + b y = 0\n",
    "$$\n",
    "löst. Wir betrachten zuerst den Fall $a = 5$, $b = 7$:"
   ]
  },
  {
   "cell_type": "code",
   "execution_count": 4,
   "id": "7684b93d",
   "metadata": {},
   "outputs": [
    {
     "data": {
      "text/latex": [
       "$\\displaystyle y{\\left(x \\right)} = \\left(C_{1} \\sin{\\left(\\frac{\\sqrt{3} x}{2} \\right)} + C_{2} \\cos{\\left(\\frac{\\sqrt{3} x}{2} \\right)}\\right) e^{- \\frac{5 x}{2}}$"
      ],
      "text/plain": [
       "Eq(y(x), (C1*sin(sqrt(3)*x/2) + C2*cos(sqrt(3)*x/2))*exp(-5*x/2))"
      ]
     },
     "execution_count": 4,
     "metadata": {},
     "output_type": "execute_result"
    }
   ],
   "source": [
    "# Wir importieren die nötigen Funktionen aus sympy\n",
    "from sympy import Function, Symbol, dsolve, Derivative\n",
    "# Wir definieren die Koeffizienten a und b:\n",
    "a = 5\n",
    "b = 7\n",
    "# Die Funktion y und die Variable x müssen definiert werden:\n",
    "y = Function('y')\n",
    "x = Symbol('x')\n",
    "\n",
    "result = dsolve(Derivative(y(x), x, 2) + a * Derivative(y(x), x, 1) + b * y(x), y(x))\n",
    "\n",
    "result"
   ]
  },
  {
   "cell_type": "markdown",
   "id": "3e7c2d10",
   "metadata": {},
   "source": [
    "## Finden der partikulären Lösung der DGL\n",
    "\n",
    "Um die partikuläre Lösung unserer DGL mit $y(0) = 1$ und $\\dot y(0) = 1$ zu finden, geben wir das Folgende ein:"
   ]
  },
  {
   "cell_type": "code",
   "execution_count": 5,
   "id": "28cbc906",
   "metadata": {},
   "outputs": [
    {
     "data": {
      "text/latex": [
       "$\\displaystyle y{\\left(x \\right)} = \\frac{2 \\sqrt{3} e^{- \\frac{5 x}{2}} \\sin{\\left(\\frac{\\sqrt{3} x}{2} \\right)}}{3}$"
      ],
      "text/plain": [
       "Eq(y(x), 2*sqrt(3)*exp(-5*x/2)*sin(sqrt(3)*x/2)/3)"
      ]
     },
     "execution_count": 5,
     "metadata": {},
     "output_type": "execute_result"
    }
   ],
   "source": [
    "result = dsolve(Derivative(y(x), x, 2) + a * Derivative(y(x), x, 1) + b * y(x), y(x),\n",
    "               ics = {y(0): 0, y(x).diff(x).subs(x, 0): 1})\n",
    "\n",
    "result"
   ]
  }
 ],
 "metadata": {
  "kernelspec": {
   "display_name": "Python 3 (ipykernel)",
   "language": "python",
   "name": "python3"
  },
  "language_info": {
   "codemirror_mode": {
    "name": "ipython",
    "version": 3
   },
   "file_extension": ".py",
   "mimetype": "text/x-python",
   "name": "python",
   "nbconvert_exporter": "python",
   "pygments_lexer": "ipython3",
   "version": "3.9.13"
  }
 },
 "nbformat": 4,
 "nbformat_minor": 5
}
